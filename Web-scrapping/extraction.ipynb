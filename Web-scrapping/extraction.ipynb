{
 "cells": [
  {
   "cell_type": "code",
   "execution_count": 2,
   "metadata": {},
   "outputs": [],
   "source": [
    "import requests\n",
    "from bs4 import BeautifulSoup\n",
    "import pandas as pd"
   ]
  },
  {
   "cell_type": "code",
   "execution_count": 196,
   "metadata": {},
   "outputs": [],
   "source": [
    "\n",
    "\n",
    "DataSet = pd.DataFrame()\n",
    "\n",
    "for j in range (533,536):\n",
    "\n",
    "    url = 'http://www.howstat.com/cricket/Statistics/Matches/MatchScorecard_ODI.asp?MatchCode=0{}'.format(j)\n",
    "    \n",
    "    webpage = requests.get(url).text\n",
    "\n",
    "    soup = BeautifulSoup(webpage,'html.parser')\n",
    "\n",
    "\n",
    "    date = []\n",
    "    match = []\n",
    "    stadium = []\n",
    "    Team1 = []\n",
    "    score1 = []\n",
    "    Team2 = []\n",
    "    score2 = []\n",
    "    winner=[]\n",
    "\n",
    "    for i in range(1):\n",
    "        date.append([i for i in soup.findAll('td',class_='TextBlackBold8')][2].text.strip())\n",
    "        match.append([i for i in soup.findAll('td',class_='TextBlackBold8')][0].text.strip())\n",
    "        stadium.append([i for i in soup.findAll('td',class_='TextBlackBold8')][1].text.strip())\n",
    "        Team1.append([i for i in soup.findAll('td',class_='TextBlackBold8')][3].text.strip())\n",
    "        score1.append([i for i in soup.findAll('td',valign=\"middle\")][1].text.strip())\n",
    "        Team2.append([i for i in soup.findAll('b')][0].text.strip())\n",
    "        score2.append([i for i in soup.findAll('td',align=\"right\")][1].text.strip())\n",
    "        winner.append([i for i in soup.findAll('b')][2].text.strip())\n",
    "        \n",
    "        \n",
    "\n",
    "    dictionary = {'Date':date,'Match':match,'Stadium':stadium,'Team1':Team1,'Score1':score1,'Team2':Team2,'Score2':score2,'Winner':winner}\n",
    "    df = pd.DataFrame(dictionary)\n",
    "    DataSet = pd.concat([DataSet, df], ignore_index=True)\n"
   ]
  },
  {
   "cell_type": "code",
   "execution_count": 197,
   "metadata": {},
   "outputs": [
    {
     "data": {
      "text/html": [
       "<div>\n",
       "<style scoped>\n",
       "    .dataframe tbody tr th:only-of-type {\n",
       "        vertical-align: middle;\n",
       "    }\n",
       "\n",
       "    .dataframe tbody tr th {\n",
       "        vertical-align: top;\n",
       "    }\n",
       "\n",
       "    .dataframe thead th {\n",
       "        text-align: right;\n",
       "    }\n",
       "</style>\n",
       "<table border=\"1\" class=\"dataframe\">\n",
       "  <thead>\n",
       "    <tr style=\"text-align: right;\">\n",
       "      <th></th>\n",
       "      <th>Date</th>\n",
       "      <th>Match</th>\n",
       "      <th>Stadium</th>\n",
       "      <th>Team1</th>\n",
       "      <th>Score1</th>\n",
       "      <th>Team2</th>\n",
       "      <th>Score2</th>\n",
       "      <th>Winner</th>\n",
       "    </tr>\n",
       "  </thead>\n",
       "  <tbody>\n",
       "    <tr>\n",
       "      <th>0</th>\n",
       "      <td>4th November, 1987</td>\n",
       "      <td>1987-1988 Reliance World Cup - 1st Semi-Final</td>\n",
       "      <td>Gaddafi Stadium, Lahore</td>\n",
       "      <td>Australia</td>\n",
       "      <td>(49 overs)  249</td>\n",
       "      <td>Australia</td>\n",
       "      <td>(50 overs)  267/8</td>\n",
       "      <td>Australia won by 18 runs</td>\n",
       "    </tr>\n",
       "    <tr>\n",
       "      <th>1</th>\n",
       "      <td>5th November, 1987</td>\n",
       "      <td>1987-1988 Reliance World Cup - Semi-Final</td>\n",
       "      <td>Wankhede Stadium, Mumbai</td>\n",
       "      <td>England</td>\n",
       "      <td>(45.3 overs)  219</td>\n",
       "      <td>England</td>\n",
       "      <td>(50 overs)  254/6</td>\n",
       "      <td>England won by 35 runs</td>\n",
       "    </tr>\n",
       "    <tr>\n",
       "      <th>2</th>\n",
       "      <td>8th November, 1987</td>\n",
       "      <td>1987-1988 Reliance World Cup - Final</td>\n",
       "      <td>Eden Gardens, Kolkata</td>\n",
       "      <td>Australia</td>\n",
       "      <td>(50 overs)  253/5</td>\n",
       "      <td>Australia</td>\n",
       "      <td>(50 overs)  246/8</td>\n",
       "      <td>Australia won by 7 runs</td>\n",
       "    </tr>\n",
       "  </tbody>\n",
       "</table>\n",
       "</div>"
      ],
      "text/plain": [
       "                 Date                                          Match  \\\n",
       "0  4th November, 1987  1987-1988 Reliance World Cup - 1st Semi-Final   \n",
       "1  5th November, 1987      1987-1988 Reliance World Cup - Semi-Final   \n",
       "2  8th November, 1987           1987-1988 Reliance World Cup - Final   \n",
       "\n",
       "                    Stadium      Team1             Score1      Team2  \\\n",
       "0   Gaddafi Stadium, Lahore  Australia    (49 overs)  249  Australia   \n",
       "1  Wankhede Stadium, Mumbai    England  (45.3 overs)  219    England   \n",
       "2     Eden Gardens, Kolkata  Australia  (50 overs)  253/5  Australia   \n",
       "\n",
       "              Score2                    Winner  \n",
       "0  (50 overs)  267/8  Australia won by 18 runs  \n",
       "1  (50 overs)  254/6    England won by 35 runs  \n",
       "2  (50 overs)  246/8   Australia won by 7 runs  "
      ]
     },
     "execution_count": 197,
     "metadata": {},
     "output_type": "execute_result"
    }
   ],
   "source": [
    "DataSet"
   ]
  },
  {
   "cell_type": "code",
   "execution_count": null,
   "metadata": {},
   "outputs": [],
   "source": []
  }
 ],
 "metadata": {
  "kernelspec": {
   "display_name": "env",
   "language": "python",
   "name": "python3"
  },
  "language_info": {
   "codemirror_mode": {
    "name": "ipython",
    "version": 3
   },
   "file_extension": ".py",
   "mimetype": "text/x-python",
   "name": "python",
   "nbconvert_exporter": "python",
   "pygments_lexer": "ipython3",
   "version": "3.11.4"
  },
  "orig_nbformat": 4
 },
 "nbformat": 4,
 "nbformat_minor": 2
}
